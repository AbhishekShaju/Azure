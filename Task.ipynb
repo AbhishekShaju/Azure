{
  "nbformat": 4,
  "nbformat_minor": 0,
  "metadata": {
    "colab": {
      "provenance": [],
      "authorship_tag": "ABX9TyPNZBWWTCxZqMl+hjsM9x6k",
      "include_colab_link": true
    },
    "kernelspec": {
      "name": "python3",
      "display_name": "Python 3"
    },
    "language_info": {
      "name": "python"
    }
  },
  "cells": [
    {
      "cell_type": "markdown",
      "metadata": {
        "id": "view-in-github",
        "colab_type": "text"
      },
      "source": [
        "<a href=\"https://colab.research.google.com/github/AbhishekShaju/Azure/blob/main/Task.ipynb\" target=\"_parent\"><img src=\"https://colab.research.google.com/assets/colab-badge.svg\" alt=\"Open In Colab\"/></a>"
      ]
    },
    {
      "cell_type": "code",
      "execution_count": 1,
      "metadata": {
        "id": "xYffniwLOUWi"
      },
      "outputs": [],
      "source": [
        "import spacy\n"
      ]
    },
    {
      "cell_type": "code",
      "source": [
        "nlp = spacy.load(\"en_core_web_sm\")\n"
      ],
      "metadata": {
        "id": "qWYNZBgrOkNs"
      },
      "execution_count": 2,
      "outputs": []
    },
    {
      "cell_type": "code",
      "source": [
        "sentence = \"Air India Flight AI171 Crash: A Boeing 787 crashed in Ahmedabad on June 12, killing over 270 people. Only one survivor.\""
      ],
      "metadata": {
        "id": "3vDcI89HOnR8"
      },
      "execution_count": 3,
      "outputs": []
    },
    {
      "cell_type": "code",
      "source": [
        "doc = nlp(sentence)\n"
      ],
      "metadata": {
        "id": "s56B0b-bO4Bb"
      },
      "execution_count": 4,
      "outputs": []
    },
    {
      "cell_type": "code",
      "source": [
        "spacy_tokens = [token.text for token in doc]\n",
        "spacy_tokens"
      ],
      "metadata": {
        "colab": {
          "base_uri": "https://localhost:8080/"
        },
        "id": "LV6q82_hO7Jk",
        "outputId": "5b077f6c-a7ca-46bb-e1db-76b4edff4fc3"
      },
      "execution_count": 5,
      "outputs": [
        {
          "output_type": "execute_result",
          "data": {
            "text/plain": [
              "['Air',\n",
              " 'India',\n",
              " 'Flight',\n",
              " 'AI171',\n",
              " 'Crash',\n",
              " ':',\n",
              " 'A',\n",
              " 'Boeing',\n",
              " '787',\n",
              " 'crashed',\n",
              " 'in',\n",
              " 'Ahmedabad',\n",
              " 'on',\n",
              " 'June',\n",
              " '12',\n",
              " ',',\n",
              " 'killing',\n",
              " 'over',\n",
              " '270',\n",
              " 'people',\n",
              " '.',\n",
              " 'Only',\n",
              " 'one',\n",
              " 'survivor',\n",
              " '.']"
            ]
          },
          "metadata": {},
          "execution_count": 5
        }
      ]
    },
    {
      "cell_type": "code",
      "source": [
        "from nltk.stem import PorterStemmer\n"
      ],
      "metadata": {
        "id": "VFkXfeBgO_iE"
      },
      "execution_count": 6,
      "outputs": []
    },
    {
      "cell_type": "code",
      "source": [
        "stemmer = PorterStemmer()\n"
      ],
      "metadata": {
        "id": "0dTSQEWdPB57"
      },
      "execution_count": 7,
      "outputs": []
    },
    {
      "cell_type": "code",
      "source": [
        "stemmed_tokens = [stemmer.stem(token) for token in spacy_tokens]\n",
        "stemmed_tokens"
      ],
      "metadata": {
        "colab": {
          "base_uri": "https://localhost:8080/"
        },
        "id": "_1OH2L8hPD9T",
        "outputId": "c07cf402-c853-4054-c3bf-9e110711b03f"
      },
      "execution_count": 8,
      "outputs": [
        {
          "output_type": "execute_result",
          "data": {
            "text/plain": [
              "['air',\n",
              " 'india',\n",
              " 'flight',\n",
              " 'ai171',\n",
              " 'crash',\n",
              " ':',\n",
              " 'a',\n",
              " 'boe',\n",
              " '787',\n",
              " 'crash',\n",
              " 'in',\n",
              " 'ahmedabad',\n",
              " 'on',\n",
              " 'june',\n",
              " '12',\n",
              " ',',\n",
              " 'kill',\n",
              " 'over',\n",
              " '270',\n",
              " 'peopl',\n",
              " '.',\n",
              " 'onli',\n",
              " 'one',\n",
              " 'survivor',\n",
              " '.']"
            ]
          },
          "metadata": {},
          "execution_count": 8
        }
      ]
    },
    {
      "cell_type": "code",
      "source": [
        "import nltk\n"
      ],
      "metadata": {
        "id": "rrDLVd2PPHZ8"
      },
      "execution_count": 10,
      "outputs": []
    },
    {
      "cell_type": "code",
      "source": [
        "nltk.download('wordnet')\n",
        "from nltk.stem import WordNetLemmatizer\n"
      ],
      "metadata": {
        "colab": {
          "base_uri": "https://localhost:8080/"
        },
        "id": "iVQg6aHTPbXL",
        "outputId": "7e922f0f-69a9-41e7-d70a-572f881a5d91"
      },
      "execution_count": 11,
      "outputs": [
        {
          "output_type": "stream",
          "name": "stderr",
          "text": [
            "[nltk_data] Downloading package wordnet to /root/nltk_data...\n"
          ]
        }
      ]
    },
    {
      "cell_type": "code",
      "source": [
        "lemmatizer = WordNetLemmatizer()"
      ],
      "metadata": {
        "id": "3IYeh1C-PfCb"
      },
      "execution_count": 12,
      "outputs": []
    },
    {
      "cell_type": "code",
      "source": [
        "lemmatized_tokens = [lemmatizer.lemmatize(token) for token in spacy_tokens]\n",
        "lemmatized_tokens"
      ],
      "metadata": {
        "colab": {
          "base_uri": "https://localhost:8080/"
        },
        "id": "yivH_NeiPiYD",
        "outputId": "08e0d98c-b34b-4de6-e300-72a89f5df3c0"
      },
      "execution_count": 13,
      "outputs": [
        {
          "output_type": "execute_result",
          "data": {
            "text/plain": [
              "['Air',\n",
              " 'India',\n",
              " 'Flight',\n",
              " 'AI171',\n",
              " 'Crash',\n",
              " ':',\n",
              " 'A',\n",
              " 'Boeing',\n",
              " '787',\n",
              " 'crashed',\n",
              " 'in',\n",
              " 'Ahmedabad',\n",
              " 'on',\n",
              " 'June',\n",
              " '12',\n",
              " ',',\n",
              " 'killing',\n",
              " 'over',\n",
              " '270',\n",
              " 'people',\n",
              " '.',\n",
              " 'Only',\n",
              " 'one',\n",
              " 'survivor',\n",
              " '.']"
            ]
          },
          "metadata": {},
          "execution_count": 13
        }
      ]
    },
    {
      "cell_type": "code",
      "source": [
        "nltk.download('stopwords')\n",
        "from nltk.corpus import stopwords\n"
      ],
      "metadata": {
        "colab": {
          "base_uri": "https://localhost:8080/"
        },
        "id": "n8GVpB76Pler",
        "outputId": "2503788b-4f4c-4b7f-aa6c-698a9c439601"
      },
      "execution_count": 14,
      "outputs": [
        {
          "output_type": "stream",
          "name": "stderr",
          "text": [
            "[nltk_data] Downloading package stopwords to /root/nltk_data...\n",
            "[nltk_data]   Unzipping corpora/stopwords.zip.\n"
          ]
        }
      ]
    },
    {
      "cell_type": "code",
      "source": [
        "stop_words = set(stopwords.words('english'))\n"
      ],
      "metadata": {
        "id": "vq0PyGuEPnUL"
      },
      "execution_count": 15,
      "outputs": []
    },
    {
      "cell_type": "code",
      "source": [
        "filtered_tokens = [token for token in spacy_tokens if token not in stop_words]\n",
        "filtered_tokens"
      ],
      "metadata": {
        "colab": {
          "base_uri": "https://localhost:8080/"
        },
        "id": "Vw_DqEnBPs9z",
        "outputId": "26573e15-d83e-49e5-e990-e631e820728a"
      },
      "execution_count": 16,
      "outputs": [
        {
          "output_type": "execute_result",
          "data": {
            "text/plain": [
              "['Air',\n",
              " 'India',\n",
              " 'Flight',\n",
              " 'AI171',\n",
              " 'Crash',\n",
              " ':',\n",
              " 'A',\n",
              " 'Boeing',\n",
              " '787',\n",
              " 'crashed',\n",
              " 'Ahmedabad',\n",
              " 'June',\n",
              " '12',\n",
              " ',',\n",
              " 'killing',\n",
              " '270',\n",
              " 'people',\n",
              " '.',\n",
              " 'Only',\n",
              " 'one',\n",
              " 'survivor',\n",
              " '.']"
            ]
          },
          "metadata": {},
          "execution_count": 16
        }
      ]
    }
  ]
}